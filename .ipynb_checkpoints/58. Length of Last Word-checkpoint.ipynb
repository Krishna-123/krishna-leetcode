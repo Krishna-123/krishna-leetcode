{
 "cells": [
  {
   "cell_type": "markdown",
   "id": "d5f97824",
   "metadata": {},
   "source": [
    "Given a string s consisting of words and spaces, return the length of the last word in the string.\n",
    "\n",
    "A word is a maximal substring consisting of non-space characters only.\n",
    "\n",
    " \n",
    "\n",
    "Example 1:\n",
    "\n",
    "Input: s = \"Hello World\"\n",
    "Output: 5\n",
    "Explanation: The last word is \"World\" with length 5.\n",
    "\n",
    "Example 2:\n",
    "\n",
    "Input: s = \"   fly me   to   the moon  \"\n",
    "Output: 4\n",
    "Explanation: The last word is \"moon\" with length 4.\n"
   ]
  },
  {
   "cell_type": "code",
   "execution_count": 21,
   "id": "c57fe25b",
   "metadata": {},
   "outputs": [],
   "source": [
    "%config Completer.use_jedi = False"
   ]
  },
  {
   "cell_type": "code",
   "execution_count": 8,
   "id": "c40ad696",
   "metadata": {},
   "outputs": [],
   "source": [
    "def solution(s: str)-> int:\n",
    "    if len(s.strip()):\n",
    "        print( len(s.strip().split(\" \")[-1]) )"
   ]
  },
  {
   "cell_type": "code",
   "execution_count": 10,
   "id": "baabfb18",
   "metadata": {},
   "outputs": [
    {
     "name": "stdout",
     "output_type": "stream",
     "text": [
      "5\n"
     ]
    }
   ],
   "source": [
    "solution(\"Hello World\")"
   ]
  },
  {
   "cell_type": "code",
   "execution_count": 6,
   "id": "a7ffe59e",
   "metadata": {},
   "outputs": [
    {
     "data": {
      "text/plain": [
       "'sfsd,mf sdfsd'"
      ]
     },
     "execution_count": 6,
     "metadata": {},
     "output_type": "execute_result"
    }
   ],
   "source": [
    "s.split"
   ]
  },
  {
   "cell_type": "code",
   "execution_count": 24,
   "id": "98e5ea0e",
   "metadata": {},
   "outputs": [
    {
     "data": {
      "text/plain": [
       "''"
      ]
     },
     "execution_count": 24,
     "metadata": {},
     "output_type": "execute_result"
    }
   ],
   "source": [
    "\"djksd sjkfksd \".split(\" \")[-1] # keep empty string"
   ]
  },
  {
   "cell_type": "code",
   "execution_count": 25,
   "id": "c2eb85ec",
   "metadata": {},
   "outputs": [
    {
     "data": {
      "text/plain": [
       "'sjkfksd'"
      ]
     },
     "execution_count": 25,
     "metadata": {},
     "output_type": "execute_result"
    }
   ],
   "source": [
    "\"djksd sjkfksd \".split()[-1]  # remove empty string"
   ]
  },
  {
   "cell_type": "code",
   "execution_count": null,
   "id": "755f54ab",
   "metadata": {},
   "outputs": [],
   "source": [
    "\"djksd sjkfksd \".split"
   ]
  },
  {
   "cell_type": "code",
   "execution_count": null,
   "id": "ebe1d97e",
   "metadata": {},
   "outputs": [],
   "source": [
    "there is a difference between split() and split(\" \")\n",
    "on first we are separting based on the white space but also removed the empty string \n",
    "but on 2nd we keep the empty string"
   ]
  }
 ],
 "metadata": {
  "kernelspec": {
   "display_name": "Python 3",
   "language": "python",
   "name": "python3"
  },
  "language_info": {
   "codemirror_mode": {
    "name": "ipython",
    "version": 3
   },
   "file_extension": ".py",
   "mimetype": "text/x-python",
   "name": "python",
   "nbconvert_exporter": "python",
   "pygments_lexer": "ipython3",
   "version": "3.6.9"
  }
 },
 "nbformat": 4,
 "nbformat_minor": 5
}
