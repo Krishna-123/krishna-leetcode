{
 "cells": [
  {
   "cell_type": "code",
   "execution_count": 1,
   "id": "8ec6d81d",
   "metadata": {},
   "outputs": [],
   "source": [
    "%config Completer.use_jedi = False"
   ]
  },
  {
   "cell_type": "markdown",
   "id": "95894359",
   "metadata": {},
   "source": [
    "Given a string s, find the length of the first longest substring without repeating characters.\n",
    "\n",
    " \n",
    "\n",
    "Example 1:\n",
    "\n",
    "Input: s = \"abcabcbb\"\n",
    "Output: 3\n",
    "Explanation: The answer is \"abc\", with the length of 3.\n"
   ]
  },
  {
   "cell_type": "code",
   "execution_count": 3,
   "id": "ec267093",
   "metadata": {},
   "outputs": [
    {
     "ename": "SyntaxError",
     "evalue": "invalid syntax (<ipython-input-3-4d140b1009a3>, line 3)",
     "output_type": "error",
     "traceback": [
      "\u001b[0;36m  File \u001b[0;32m\"<ipython-input-3-4d140b1009a3>\"\u001b[0;36m, line \u001b[0;32m3\u001b[0m\n\u001b[0;31m    s.\u001b[0m\n\u001b[0m      ^\u001b[0m\n\u001b[0;31mSyntaxError\u001b[0m\u001b[0;31m:\u001b[0m invalid syntax\n"
     ]
    }
   ],
   "source": [
    "class Solution:\n",
    "    def lengthOfLongestSubstring(self, s: str) -> int:\n",
    "        s.sub"
   ]
  },
  {
   "cell_type": "code",
   "execution_count": 42,
   "id": "20ff7d5a",
   "metadata": {},
   "outputs": [
    {
     "data": {
      "text/plain": [
       "3"
      ]
     },
     "execution_count": 42,
     "metadata": {},
     "output_type": "execute_result"
    }
   ],
   "source": [
    "s = 'abcabcbb'\n",
    "# here we only need deal with length or index, \n",
    "# so to store entire substring is not needed only need to store their length\n",
    "list_string = []\n",
    "for i in range(len(s)):\n",
    "    s1 = s[i] \n",
    "    for j in range(i+1, len(s)):\n",
    "        if (s[j] in s1):\n",
    "            break\n",
    "        s1 += s[j]\n",
    "    list_string.append(len(s1))                \n",
    "    \n",
    "        \n",
    "max(list_string)"
   ]
  },
  {
   "cell_type": "code",
   "execution_count": 41,
   "id": "1ab9919c",
   "metadata": {},
   "outputs": [
    {
     "data": {
      "text/plain": [
       "1"
      ]
     },
     "execution_count": 41,
     "metadata": {},
     "output_type": "execute_result"
    }
   ],
   "source": [
    "len(\" \")"
   ]
  },
  {
   "cell_type": "code",
   "execution_count": 54,
   "id": "2c5ab250",
   "metadata": {},
   "outputs": [
    {
     "name": "stdout",
     "output_type": "stream",
     "text": [
      "0 0\n",
      "1 1\n",
      "2 1\n",
      "3 2\n",
      "4 3\n",
      "5 3\n"
     ]
    },
    {
     "data": {
      "text/plain": [
       "({'p': 0, 'w': 5, 'k': 3, 'e': 4}, 3)"
      ]
     },
     "execution_count": 54,
     "metadata": {},
     "output_type": "execute_result"
    }
   ],
   "source": [
    "# instead of using the loop we are storing the position in an dict, so instead of keeping them in a loop we can\n",
    "# directly obtain the distance between two consecutive chars\n",
    "\n",
    "s = 'pwwkew'\n",
    "pos_dict = {}\n",
    "start = 0\n",
    "max_len = 0\n",
    "for i in range(len(s) ):\n",
    "    start = max(start, pos_dict.get(s[i], 0))\n",
    "    max_len = max(max_len, i - start) \n",
    "    pos_dict[s[i]] = i\n",
    "    print(i, max_len)\n",
    "pos_dict, max_len\n"
   ]
  },
  {
   "cell_type": "code",
   "execution_count": null,
   "id": "eb910e82",
   "metadata": {},
   "outputs": [],
   "source": []
  }
 ],
 "metadata": {
  "kernelspec": {
   "display_name": "Python 3",
   "language": "python",
   "name": "python3"
  },
  "language_info": {
   "codemirror_mode": {
    "name": "ipython",
    "version": 3
   },
   "file_extension": ".py",
   "mimetype": "text/x-python",
   "name": "python",
   "nbconvert_exporter": "python",
   "pygments_lexer": "ipython3",
   "version": "3.6.9"
  }
 },
 "nbformat": 4,
 "nbformat_minor": 5
}
