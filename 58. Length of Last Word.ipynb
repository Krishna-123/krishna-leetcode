{
 "cells": [
  {
   "cell_type": "markdown",
   "id": "fb05f1ff",
   "metadata": {},
   "source": [
    "Given a string s consisting of words and spaces, return the length of the last word in the string.\n",
    "\n",
    "A word is a maximal substring consisting of non-space characters only.\n",
    "\n",
    " \n",
    "\n",
    "Example 1:\n",
    "\n",
    "Input: s = \"Hello World\"\n",
    "Output: 5\n",
    "Explanation: The last word is \"World\" with length 5.\n",
    "\n",
    "Example 2:\n",
    "\n",
    "Input: s = \"   fly me   to   the moon  \"\n",
    "Output: 4\n",
    "Explanation: The last word is \"moon\" with length 4.\n"
   ]
  },
  {
   "cell_type": "code",
   "execution_count": 21,
   "id": "32c36788",
   "metadata": {},
   "outputs": [],
   "source": [
    "%config Completer.use_jedi = False"
   ]
  },
  {
   "cell_type": "code",
   "execution_count": 8,
   "id": "9a041891",
   "metadata": {},
   "outputs": [],
   "source": [
    "def solution(s: str)-> int:\n",
    "    if len(s.strip()):\n",
    "        print( len(s.strip().split(\" \")[-1]) )"
   ]
  },
  {
   "cell_type": "code",
   "execution_count": 10,
   "id": "36abc067",
   "metadata": {},
   "outputs": [
    {
     "name": "stdout",
     "output_type": "stream",
     "text": [
      "5\n"
     ]
    }
   ],
   "source": [
    "solution(\"Hello World\")"
   ]
  },
  {
   "cell_type": "code",
   "execution_count": 6,
   "id": "ee9d2c5f",
   "metadata": {},
   "outputs": [
    {
     "data": {
      "text/plain": [
       "'sfsd,mf sdfsd'"
      ]
     },
     "execution_count": 6,
     "metadata": {},
     "output_type": "execute_result"
    }
   ],
   "source": [
    "s.split"
   ]
  },
  {
   "cell_type": "code",
   "execution_count": 24,
   "id": "0fa12054",
   "metadata": {},
   "outputs": [
    {
     "data": {
      "text/plain": [
       "''"
      ]
     },
     "execution_count": 24,
     "metadata": {},
     "output_type": "execute_result"
    }
   ],
   "source": [
    "\"djksd sjkfksd \".split(\" \")[-1] # keep empty string"
   ]
  },
  {
   "cell_type": "code",
   "execution_count": 25,
   "id": "1cb327d4",
   "metadata": {},
   "outputs": [
    {
     "data": {
      "text/plain": [
       "'sjkfksd'"
      ]
     },
     "execution_count": 25,
     "metadata": {},
     "output_type": "execute_result"
    }
   ],
   "source": [
    "\"djksd sjkfksd \".split()[-1]  # remove empty string"
   ]
  },
  {
   "cell_type": "code",
   "execution_count": null,
   "id": "2379450e",
   "metadata": {},
   "outputs": [],
   "source": [
    "\"djksd sjkfksd \".split"
   ]
  },
  {
   "cell_type": "code",
   "execution_count": null,
   "id": "ad6b92fa",
   "metadata": {},
   "outputs": [],
   "source": [
    "there is a difference between split() and split(\" \")\n",
    "on first we are separting based on the white space but also removed the empty string \n",
    "but on 2nd we keep the empty string"
   ]
  }
 ],
 "metadata": {
  "kernelspec": {
   "display_name": "Python 3",
   "language": "python",
   "name": "python3"
  },
  "language_info": {
   "codemirror_mode": {
    "name": "ipython",
    "version": 3
   },
   "file_extension": ".py",
   "mimetype": "text/x-python",
   "name": "python",
   "nbconvert_exporter": "python",
   "pygments_lexer": "ipython3",
   "version": "3.6.9"
  }
 },
 "nbformat": 4,
 "nbformat_minor": 5
}
