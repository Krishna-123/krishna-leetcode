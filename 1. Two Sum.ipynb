{
 "cells": [
  {
   "cell_type": "markdown",
   "id": "0b1cec60",
   "metadata": {},
   "source": [
    "Given an array of integers nums and an integer target, return indices of the two numbers such that they add up to target.\n",
    "\n",
    "You may assume that each input would have exactly one solution, and you may not use the same element twice.\n",
    "\n",
    "You can return the answer in any order.\n",
    "\n",
    " \n",
    "\n",
    "Example 1:\n",
    "\n",
    "Input: nums = [2,7,11,15], target = 9\n",
    "Output: [0,1]\n",
    "Explanation: Because nums[0] + nums[1] == 9, we return [0, 1].\n"
   ]
  },
  {
   "cell_type": "code",
   "execution_count": 14,
   "id": "23f46f12",
   "metadata": {},
   "outputs": [],
   "source": [
    "%config Completer.use_jedi = False"
   ]
  },
  {
   "cell_type": "code",
   "execution_count": 6,
   "id": "2b7d179b",
   "metadata": {},
   "outputs": [],
   "source": [
    "def two_number(nums: [int], target:int)->[int]:\n",
    "    for i in range(len(nums)):\n",
    "        for j in range(i+1, len(nums)):\n",
    "            if nums[i] + nums[j] == target:\n",
    "                return [i,j]"
   ]
  },
  {
   "cell_type": "code",
   "execution_count": 10,
   "id": "778c5f3b",
   "metadata": {},
   "outputs": [
    {
     "data": {
      "text/plain": [
       "[0, 3]"
      ]
     },
     "execution_count": 10,
     "metadata": {},
     "output_type": "execute_result"
    }
   ],
   "source": [
    "two_number([2,11,15, 7], 9)"
   ]
  },
  {
   "cell_type": "code",
   "execution_count": 45,
   "id": "ecec4dad",
   "metadata": {},
   "outputs": [],
   "source": [
    "\n",
    "def two_number(nums: [int], target:int)->[int]:\n",
    "    nums_dict = {}\n",
    "    for i in range(len(nums)):\n",
    "        if nums[i] in nums_dict.values():\n",
    "            return [ nums.index(list(nums_dict.keys())[list(nums_dict.values()).index(nums[i])]), i]\n",
    "        nums_dict[nums[i]] = target - nums[i]"
   ]
  },
  {
   "cell_type": "code",
   "execution_count": 55,
   "id": "6ee243a9",
   "metadata": {},
   "outputs": [
    {
     "name": "stdout",
     "output_type": "stream",
     "text": [
      "1.68 µs ± 28.5 ns per loop (mean ± std. dev. of 7 runs, 100000 loops each)\n"
     ]
    }
   ],
   "source": [
    "%%timeit\n",
    "two_number([3,3], 6)"
   ]
  },
  {
   "cell_type": "code",
   "execution_count": 17,
   "id": "d3234d4b",
   "metadata": {},
   "outputs": [],
   "source": [
    "abc={1:2}"
   ]
  },
  {
   "cell_type": "code",
   "execution_count": 18,
   "id": "6c6a824f",
   "metadata": {},
   "outputs": [
    {
     "data": {
      "text/plain": [
       "dict_values([2])"
      ]
     },
     "execution_count": 18,
     "metadata": {},
     "output_type": "execute_result"
    }
   ],
   "source": [
    "abc.values()"
   ]
  },
  {
   "cell_type": "code",
   "execution_count": 21,
   "id": "8aa25eee",
   "metadata": {},
   "outputs": [
    {
     "data": {
      "text/plain": [
       "0"
      ]
     },
     "execution_count": 21,
     "metadata": {},
     "output_type": "execute_result"
    }
   ],
   "source": [
    "nums = [2,11,15, 7]\n",
    "nums.index(2)"
   ]
  },
  {
   "cell_type": "code",
   "execution_count": 50,
   "id": "3b973078",
   "metadata": {},
   "outputs": [],
   "source": [
    "def two_number_new(nums: [int], target:int)->[int]:\n",
    "    for i in range(len(nums)):\n",
    "        if (target - nums[i]) in nums[i+1:]:\n",
    "            return [i, nums[i+1:].index(target-nums[i]) + (i+1)]"
   ]
  },
  {
   "cell_type": "code",
   "execution_count": 54,
   "id": "f9ac4159",
   "metadata": {},
   "outputs": [
    {
     "name": "stdout",
     "output_type": "stream",
     "text": [
      "2.06 µs ± 209 ns per loop (mean ± std. dev. of 7 runs, 100000 loops each)\n"
     ]
    }
   ],
   "source": [
    "%%timeit\n",
    "two_number_new([2,11,14,5,7], 9)"
   ]
  },
  {
   "cell_type": "code",
   "execution_count": null,
   "id": "dd1cc166",
   "metadata": {},
   "outputs": [],
   "source": []
  }
 ],
 "metadata": {
  "kernelspec": {
   "display_name": "Python 3",
   "language": "python",
   "name": "python3"
  },
  "language_info": {
   "codemirror_mode": {
    "name": "ipython",
    "version": 3
   },
   "file_extension": ".py",
   "mimetype": "text/x-python",
   "name": "python",
   "nbconvert_exporter": "python",
   "pygments_lexer": "ipython3",
   "version": "3.6.9"
  }
 },
 "nbformat": 4,
 "nbformat_minor": 5
}
