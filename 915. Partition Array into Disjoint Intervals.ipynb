{
 "cells": [
  {
   "cell_type": "code",
   "execution_count": 1,
   "id": "9bb94472",
   "metadata": {},
   "outputs": [],
   "source": [
    "%config Completer.use_jedi = False"
   ]
  },
  {
   "cell_type": "markdown",
   "id": "89f59b5e",
   "metadata": {},
   "source": [
    "Given an integer array nums, partition it into two (contiguous) subarrays left and right so that:\n",
    "\n",
    "    Every element in left is less than or equal to every element in right.\n",
    "    left and right are non-empty.\n",
    "    left has the smallest possible size.\n",
    "\n",
    "Return the length of left after such a partitioning.\n",
    "\n",
    "Test cases are generated such that partitioning exists.\n",
    "\n",
    "\n",
    "\n",
    "\n",
    "Example 1:\n",
    "\n",
    "Input: nums = [5,0,3,8,6]\n",
    "Output: 3\n",
    "Explanation: left = [5,0,3], right = [8,6]\n"
   ]
  },
  {
   "cell_type": "code",
   "execution_count": 17,
   "id": "f0855423",
   "metadata": {},
   "outputs": [
    {
     "name": "stdout",
     "output_type": "stream",
     "text": [
      "5\n"
     ]
    }
   ],
   "source": [
    "# arr = [5,0,3,8,6]\n",
    "arr = [1,1,1,0,6,12]\n",
    "\n",
    "break_point = arr[-1]\n",
    "i = len(arr) -2\n",
    "check_point = arr[-2]\n",
    "\n",
    "while  i >=0:\n",
    "    if check_point > break_point:\n",
    "        break_point = check_point\n",
    "    i -=1\n",
    "    check_point = arr[i]\n",
    "else:\n",
    "    print(arr.index(break_point))"
   ]
  },
  {
   "cell_type": "code",
   "execution_count": null,
   "id": "7b2de6c3",
   "metadata": {},
   "outputs": [],
   "source": [
    "def check_break_point(arr):\n",
    "    if len(arr) ==2:\n",
    "        return arr[0]\n",
    "    \n",
    "    i = len(arr)\n",
    "    check_point = arr[-2]\n",
    "    break_point = arr[-1]\n",
    "    while i >=0:\n",
    "        if check_point > break_point:\n",
    "            break_point = check_point\n",
    "        i -= 1\n",
    "        check_point = arr[i]\n",
    "        \n",
    "    else:\n",
    "        "
   ]
  }
 ],
 "metadata": {
  "kernelspec": {
   "display_name": "Python 3",
   "language": "python",
   "name": "python3"
  },
  "language_info": {
   "codemirror_mode": {
    "name": "ipython",
    "version": 3
   },
   "file_extension": ".py",
   "mimetype": "text/x-python",
   "name": "python",
   "nbconvert_exporter": "python",
   "pygments_lexer": "ipython3",
   "version": "3.6.9"
  }
 },
 "nbformat": 4,
 "nbformat_minor": 5
}
