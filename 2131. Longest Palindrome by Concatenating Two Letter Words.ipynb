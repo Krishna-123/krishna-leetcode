{
 "cells": [
  {
   "cell_type": "markdown",
   "id": "f0810f81",
   "metadata": {},
   "source": [
    "You are given an array of strings words. Each element of words consists of two lowercase English letters.\n",
    "\n",
    "Create the longest possible palindrome by selecting some elements from words and concatenating them in any order. Each element can be selected at most once.\n",
    "\n",
    "Return the length of the longest palindrome that you can create. If it is impossible to create any palindrome, return 0.\n",
    "\n",
    "A palindrome is a string that reads the same forward and backward.\n",
    "\n",
    " \n",
    "\n",
    "Example 1:\n",
    "\n",
    "Input: words = [\"lc\",\"cl\",\"gg\"]\n",
    "Output: 6\n",
    "Explanation: One longest palindrome is \"lc\" + \"gg\" + \"cl\" = \"lcggcl\", of length 6.\n",
    "Note that \"clgglc\" is another longest palindrome that can be created."
   ]
  },
  {
   "cell_type": "code",
   "execution_count": 1,
   "id": "4088c02f",
   "metadata": {},
   "outputs": [],
   "source": [
    "%config Completer.use_jedi = False\n"
   ]
  },
  {
   "cell_type": "code",
   "execution_count": 2,
   "id": "77d53184",
   "metadata": {},
   "outputs": [],
   "source": [
    "s = \"ab\""
   ]
  },
  {
   "cell_type": "code",
   "execution_count": 3,
   "id": "4a83e81b",
   "metadata": {},
   "outputs": [],
   "source": [
    "reverse_s = s[1]+s[0]"
   ]
  },
  {
   "cell_type": "code",
   "execution_count": 4,
   "id": "9c8c75da",
   "metadata": {},
   "outputs": [
    {
     "data": {
      "text/plain": [
       "'ba'"
      ]
     },
     "execution_count": 4,
     "metadata": {},
     "output_type": "execute_result"
    }
   ],
   "source": [
    "reverse_s"
   ]
  },
  {
   "cell_type": "code",
   "execution_count": 32,
   "id": "66adf582",
   "metadata": {},
   "outputs": [],
   "source": [
    "def solution(words: list[str])->int:\n",
    "    reverse_of = lambda element: element[1] + element[0]\n",
    "    pallindrom_list = []\n",
    "    \n",
    "    for index, ele in enumerate(words):\n",
    "        if reverse_of(ele) in words[index+1:]:\n",
    "            pallindrom_list.append(ele)\n",
    "            pallindrom_list.append(reverse_of(ele))\n",
    "        \n",
    "        elif ele[0] == ele[1]:\n",
    "            if len(pallindrom_list) %2 ==0:\n",
    "                pallindrom_list.append(ele)\n",
    "            \n",
    "    print(pallindrom_list)\n",
    "    return len(\"\".join(pallindrom_list))\n",
    "        "
   ]
  },
  {
   "cell_type": "code",
   "execution_count": 36,
   "id": "ec5080c6",
   "metadata": {},
   "outputs": [
    {
     "name": "stdout",
     "output_type": "stream",
     "text": [
      "dd\n",
      "aa\n",
      "bb\n",
      "dd\n",
      "aa\n",
      "dd\n",
      "bb\n",
      "dd\n",
      "cc\n",
      "cc\n",
      "['dd', 'dd', 'aa', 'aa', 'bb', 'bb', 'dd', 'dd', 'aa', 'aa', 'dd', 'dd', 'bb', 'bb', 'dd', 'dd', 'aa', 'cc', 'cc', 'cc', 'cc']\n"
     ]
    },
    {
     "data": {
      "text/plain": [
       "42"
      ]
     },
     "execution_count": 36,
     "metadata": {},
     "output_type": "execute_result"
    }
   ],
   "source": [
    "# solution([\"cc\",\"ll\",\"xx\"])\n",
    "# solution([\"lc\",\"cl\",\"gg\"])\n",
    "# solution([\"ab\",\"ty\",\"yt\",\"lc\",\"cl\",\"ab\"])\n",
    "solution([\"dd\",\"aa\",\"bb\",\"dd\",\"aa\",\"dd\",\"bb\",\"dd\",\"aa\",\"cc\",\"bb\",\"cc\",\"dd\",\"cc\"])"
   ]
  },
  {
   "cell_type": "code",
   "execution_count": 10,
   "id": "9fc7e8ee",
   "metadata": {},
   "outputs": [],
   "source": [
    "li = [\"a\", \"b\", \"c\", \"a\"]\n"
   ]
  },
  {
   "cell_type": "code",
   "execution_count": 13,
   "id": "af74b2ef",
   "metadata": {},
   "outputs": [],
   "source": [
    "li.remove(\"c\")"
   ]
  },
  {
   "cell_type": "code",
   "execution_count": 14,
   "id": "e98c891c",
   "metadata": {},
   "outputs": [
    {
     "data": {
      "text/plain": [
       "['b', 'a']"
      ]
     },
     "execution_count": 14,
     "metadata": {},
     "output_type": "execute_result"
    }
   ],
   "source": [
    "li"
   ]
  },
  {
   "cell_type": "code",
   "execution_count": 23,
   "id": "281bdaca",
   "metadata": {},
   "outputs": [],
   "source": [
    "li.insert(len(li), \"z\")"
   ]
  },
  {
   "cell_type": "code",
   "execution_count": 22,
   "id": "4f7f6550",
   "metadata": {},
   "outputs": [
    {
     "data": {
      "text/plain": [
       "['c', 'b', 'z', 'z', 'a', 'z']"
      ]
     },
     "execution_count": 22,
     "metadata": {},
     "output_type": "execute_result"
    }
   ],
   "source": [
    "li"
   ]
  },
  {
   "cell_type": "code",
   "execution_count": 24,
   "id": "03cfa011",
   "metadata": {},
   "outputs": [
    {
     "data": {
      "text/plain": [
       "['c', 'b', 'z', 'z', 'a', 'z', 'z']"
      ]
     },
     "execution_count": 24,
     "metadata": {},
     "output_type": "execute_result"
    }
   ],
   "source": []
  },
  {
   "cell_type": "code",
   "execution_count": 107,
   "id": "3a7eacb5",
   "metadata": {},
   "outputs": [],
   "source": [
    "# final solution\n",
    "def solution(words: list[str])->int:\n",
    "\n",
    "    pallindrom_mapping = {}\n",
    "    length = mid = 0\n",
    "    \n",
    "    pallindrom_mapping = Counter(words)\n",
    "#     for ele in words:\n",
    "#         if ele not in pallindrom_mapping:\n",
    "#             pallindrom_mapping[ele] = words.count(ele)\n",
    "    \n",
    "    for index, item in enumerate(pallindrom_mapping.keys()):\n",
    "        if item[::-1] in list(pallindrom_mapping.keys())[index+1 : ]:\n",
    "            length += min(pallindrom_mapping[item], pallindrom_mapping[item[::-1]]) * 4 #considering entire pair [ab ba]=4\n",
    "        \n",
    "        elif item[0] == item[1]:\n",
    "            if pallindrom_mapping[item] %2 == 0:\n",
    "                length += pallindrom_mapping[item] * 2\n",
    "            else:\n",
    "                length += (pallindrom_mapping[item] - 1) *2  # previously we were considering the max element \n",
    "#                 but here lets combine all the elements for the odd ones and at last add 1 for the middle element \n",
    "                mid = 2\n",
    "        \n",
    "#     print(pallindrom_mapping, length + mid)\n",
    "    return length + mid\n",
    "        "
   ]
  },
  {
   "cell_type": "code",
   "execution_count": 109,
   "id": "f0bef3eb",
   "metadata": {},
   "outputs": [
    {
     "ename": "NameError",
     "evalue": "name 'Counter' is not defined",
     "output_type": "error",
     "traceback": [
      "\u001b[1;31m---------------------------------------------------------------------------\u001b[0m",
      "\u001b[1;31mNameError\u001b[0m                                 Traceback (most recent call last)",
      "Cell \u001b[1;32mIn [109], line 3\u001b[0m\n\u001b[0;32m      1\u001b[0m \u001b[38;5;66;03m# solution([\"dd\",\"aa\",\"bb\",\"dd\",\"aa\",\"dd\",\"bb\",\"dd\",\"aa\",\"cc\", \"bb\",\"cc\",\"dd\",\"cc\"])\u001b[39;00m\n\u001b[0;32m      2\u001b[0m \u001b[38;5;66;03m# solution([\"ab\",\"ty\",\"yt\",\"lc\",\"cl\",\"ab\",])\u001b[39;00m\n\u001b[1;32m----> 3\u001b[0m \u001b[43msolution\u001b[49m\u001b[43m(\u001b[49m\u001b[43m[\u001b[49m\u001b[38;5;124;43m\"\u001b[39;49m\u001b[38;5;124;43mll\u001b[39;49m\u001b[38;5;124;43m\"\u001b[39;49m\u001b[43m,\u001b[49m\u001b[38;5;124;43m\"\u001b[39;49m\u001b[38;5;124;43mlb\u001b[39;49m\u001b[38;5;124;43m\"\u001b[39;49m\u001b[43m,\u001b[49m\u001b[38;5;124;43m\"\u001b[39;49m\u001b[38;5;124;43mbb\u001b[39;49m\u001b[38;5;124;43m\"\u001b[39;49m\u001b[43m,\u001b[49m\u001b[38;5;124;43m\"\u001b[39;49m\u001b[38;5;124;43mbx\u001b[39;49m\u001b[38;5;124;43m\"\u001b[39;49m\u001b[43m,\u001b[49m\u001b[38;5;124;43m\"\u001b[39;49m\u001b[38;5;124;43mxx\u001b[39;49m\u001b[38;5;124;43m\"\u001b[39;49m\u001b[43m,\u001b[49m\u001b[38;5;124;43m\"\u001b[39;49m\u001b[38;5;124;43mlx\u001b[39;49m\u001b[38;5;124;43m\"\u001b[39;49m\u001b[43m,\u001b[49m\u001b[38;5;124;43m\"\u001b[39;49m\u001b[38;5;124;43mxx\u001b[39;49m\u001b[38;5;124;43m\"\u001b[39;49m\u001b[43m,\u001b[49m\u001b[38;5;124;43m\"\u001b[39;49m\u001b[38;5;124;43mlx\u001b[39;49m\u001b[38;5;124;43m\"\u001b[39;49m\u001b[43m,\u001b[49m\u001b[38;5;124;43m\"\u001b[39;49m\u001b[38;5;124;43mll\u001b[39;49m\u001b[38;5;124;43m\"\u001b[39;49m\u001b[43m,\u001b[49m\u001b[38;5;124;43m\"\u001b[39;49m\u001b[38;5;124;43mxb\u001b[39;49m\u001b[38;5;124;43m\"\u001b[39;49m\u001b[43m,\u001b[49m\u001b[38;5;124;43m\"\u001b[39;49m\u001b[38;5;124;43mbx\u001b[39;49m\u001b[38;5;124;43m\"\u001b[39;49m\u001b[43m,\u001b[49m\u001b[38;5;124;43m\"\u001b[39;49m\u001b[38;5;124;43mlb\u001b[39;49m\u001b[38;5;124;43m\"\u001b[39;49m\u001b[43m,\u001b[49m\u001b[38;5;124;43m\"\u001b[39;49m\u001b[38;5;124;43mbb\u001b[39;49m\u001b[38;5;124;43m\"\u001b[39;49m\u001b[43m,\u001b[49m\u001b[38;5;124;43m\"\u001b[39;49m\u001b[38;5;124;43mlb\u001b[39;49m\u001b[38;5;124;43m\"\u001b[39;49m\u001b[43m,\u001b[49m\u001b[38;5;124;43m\"\u001b[39;49m\u001b[38;5;124;43mbl\u001b[39;49m\u001b[38;5;124;43m\"\u001b[39;49m\u001b[43m,\u001b[49m\u001b[38;5;124;43m\"\u001b[39;49m\u001b[38;5;124;43mbb\u001b[39;49m\u001b[38;5;124;43m\"\u001b[39;49m\u001b[43m,\u001b[49m\u001b[38;5;124;43m\"\u001b[39;49m\u001b[38;5;124;43mbx\u001b[39;49m\u001b[38;5;124;43m\"\u001b[39;49m\u001b[43m,\u001b[49m\u001b[38;5;124;43m\"\u001b[39;49m\u001b[38;5;124;43mxl\u001b[39;49m\u001b[38;5;124;43m\"\u001b[39;49m\u001b[43m,\u001b[49m\u001b[38;5;124;43m\"\u001b[39;49m\u001b[38;5;124;43mlb\u001b[39;49m\u001b[38;5;124;43m\"\u001b[39;49m\u001b[43m,\u001b[49m\u001b[38;5;124;43m\"\u001b[39;49m\u001b[38;5;124;43mxx\u001b[39;49m\u001b[38;5;124;43m\"\u001b[39;49m\u001b[43m]\u001b[49m\u001b[43m)\u001b[49m\n",
      "Cell \u001b[1;32mIn [107], line 6\u001b[0m, in \u001b[0;36msolution\u001b[1;34m(words)\u001b[0m\n\u001b[0;32m      3\u001b[0m     pallindrom_mapping \u001b[38;5;241m=\u001b[39m {}\n\u001b[0;32m      4\u001b[0m     length \u001b[38;5;241m=\u001b[39m mid \u001b[38;5;241m=\u001b[39m \u001b[38;5;241m0\u001b[39m\n\u001b[1;32m----> 6\u001b[0m     pallindrom_mapping \u001b[38;5;241m=\u001b[39m \u001b[43mCounter\u001b[49m(words)\n\u001b[0;32m      7\u001b[0m \u001b[38;5;66;03m#     for ele in words:\u001b[39;00m\n\u001b[0;32m      8\u001b[0m \u001b[38;5;66;03m#         if ele not in pallindrom_mapping:\u001b[39;00m\n\u001b[0;32m      9\u001b[0m \u001b[38;5;66;03m#             pallindrom_mapping[ele] = words.count(ele)\u001b[39;00m\n\u001b[0;32m     11\u001b[0m     \u001b[38;5;28;01mfor\u001b[39;00m index, item \u001b[38;5;129;01min\u001b[39;00m \u001b[38;5;28menumerate\u001b[39m(pallindrom_mapping\u001b[38;5;241m.\u001b[39mkeys()):\n",
      "\u001b[1;31mNameError\u001b[0m: name 'Counter' is not defined"
     ]
    }
   ],
   "source": [
    "\n",
    "# solution([\"dd\",\"aa\",\"bb\",\"dd\",\"aa\",\"dd\",\"bb\",\"dd\",\"aa\",\"cc\", \"bb\",\"cc\",\"dd\",\"cc\"])\n",
    "# solution([\"ab\",\"ty\",\"yt\",\"lc\",\"cl\",\"ab\",])\n",
    "solution([\"ll\",\"lb\",\"bb\",\"bx\",\"xx\",\"lx\",\"xx\",\"lx\",\"ll\",\"xb\",\"bx\",\"lb\",\"bb\",\"lb\",\"bl\",\"bb\",\"bx\",\"xl\",\"lb\",\"xx\"])\n"
   ]
  },
  {
   "cell_type": "code",
   "execution_count": null,
   "id": "7dbb92e1",
   "metadata": {},
   "outputs": [],
   "source": [
    "lb=1\n",
    "bx=1\n",
    "lx=1\n",
    "12\n",
    "\n",
    "ll=2\n",
    "4\n",
    "bb=3\n",
    "6\n",
    "xx=3\n",
    "4\n"
   ]
  },
  {
   "cell_type": "code",
   "execution_count": 46,
   "id": "d85d2943",
   "metadata": {},
   "outputs": [],
   "source": [
    "dict_ = {'dd': 5, 'aa': 3, 'bb': 3, 'ab': 2, 'ba': 1, 'cc': 3}"
   ]
  },
  {
   "cell_type": "code",
   "execution_count": 47,
   "id": "ab8ff513",
   "metadata": {},
   "outputs": [
    {
     "data": {
      "text/plain": [
       "1"
      ]
     },
     "execution_count": 47,
     "metadata": {},
     "output_type": "execute_result"
    }
   ],
   "source": [
    "min(dict_[\"ab\"], dict_[\"ba\"])"
   ]
  },
  {
   "cell_type": "code",
   "execution_count": 48,
   "id": "6033f799",
   "metadata": {},
   "outputs": [
    {
     "data": {
      "text/plain": [
       "dict_keys(['dd', 'aa', 'bb', 'ab', 'ba', 'cc'])"
      ]
     },
     "execution_count": 48,
     "metadata": {},
     "output_type": "execute_result"
    }
   ],
   "source": [
    "dict_.keys()"
   ]
  },
  {
   "cell_type": "code",
   "execution_count": 65,
   "id": "476ea0d2",
   "metadata": {},
   "outputs": [
    {
     "ename": "TypeError",
     "evalue": "unsupported operand type(s) for -: 'list' and 'list'",
     "output_type": "error",
     "traceback": [
      "\u001b[1;31m---------------------------------------------------------------------------\u001b[0m",
      "\u001b[1;31mTypeError\u001b[0m                                 Traceback (most recent call last)",
      "Cell \u001b[1;32mIn [65], line 1\u001b[0m\n\u001b[1;32m----> 1\u001b[0m \u001b[43m[\u001b[49m\u001b[38;5;241;43m5\u001b[39;49m\u001b[43m,\u001b[49m\u001b[38;5;241;43m3\u001b[39;49m\u001b[43m,\u001b[49m\u001b[38;5;241;43m3\u001b[39;49m\u001b[43m,\u001b[49m\u001b[38;5;241;43m1\u001b[39;49m\u001b[43m]\u001b[49m\u001b[43m \u001b[49m\u001b[38;5;241;43m-\u001b[39;49m\u001b[43m \u001b[49m\u001b[43m[\u001b[49m\u001b[38;5;241;43m5\u001b[39;49m\u001b[43m]\u001b[49m\n",
      "\u001b[1;31mTypeError\u001b[0m: unsupported operand type(s) for -: 'list' and 'list'"
     ]
    }
   ],
   "source": []
  },
  {
   "cell_type": "code",
   "execution_count": null,
   "id": "2a0b67eb",
   "metadata": {},
   "outputs": [],
   "source": []
  }
 ],
 "metadata": {
  "kernelspec": {
   "display_name": "Python 3 (ipykernel)",
   "language": "python",
   "name": "python3"
  },
  "language_info": {
   "codemirror_mode": {
    "name": "ipython",
    "version": 3
   },
   "file_extension": ".py",
   "mimetype": "text/x-python",
   "name": "python",
   "nbconvert_exporter": "python",
   "pygments_lexer": "ipython3",
   "version": "3.10.3"
  }
 },
 "nbformat": 4,
 "nbformat_minor": 5
}
